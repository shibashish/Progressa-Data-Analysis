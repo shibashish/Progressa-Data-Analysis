{
 "cells": [
  {
   "cell_type": "code",
   "execution_count": 203,
   "metadata": {
    "autoscroll": "json-false",
    "ein.tags": [
     "worksheet-0"
    ],
    "slideshow": {
     "slide_type": "-"
    }
   },
   "outputs": [
    {
     "name": "stdout",
     "output_type": "stream",
     "text": [
      "3.5.2 |Anaconda 4.2.0 (x86_64)| (default, Jul  2 2016, 17:52:12) \n",
      "[GCC 4.2.1 Compatible Apple LLVM 4.2 (clang-425.0.28)]\n"
     ]
    }
   ],
   "source": [
    "import sys; print(sys.version)\n",
    "%matplotlib inline\n",
    "import numpy as np\n",
    "import pandas as pd\n",
    "import matplotlib.pyplot as plt\n",
    "from scipy.stats import ttest_ind"
   ]
  },
  {
   "cell_type": "code",
   "execution_count": 204,
   "metadata": {},
   "outputs": [],
   "source": [
    "prog = pd.read_csv('progresa_sample.csv')"
   ]
  },
  {
   "cell_type": "code",
   "execution_count": 205,
   "metadata": {},
   "outputs": [
    {
     "data": {
      "text/html": [
       "<div>\n",
       "<table border=\"1\" class=\"dataframe\">\n",
       "  <thead>\n",
       "    <tr style=\"text-align: right;\">\n",
       "      <th></th>\n",
       "      <th>year</th>\n",
       "      <th>sex</th>\n",
       "      <th>indig</th>\n",
       "      <th>dist_sec</th>\n",
       "      <th>sc</th>\n",
       "      <th>grc</th>\n",
       "      <th>fam_n</th>\n",
       "      <th>min_dist</th>\n",
       "      <th>dist_cap</th>\n",
       "      <th>poor</th>\n",
       "      <th>...</th>\n",
       "      <th>hohedu</th>\n",
       "      <th>hohwag</th>\n",
       "      <th>welfare_index</th>\n",
       "      <th>hohsex</th>\n",
       "      <th>hohage</th>\n",
       "      <th>age</th>\n",
       "      <th>village</th>\n",
       "      <th>folnum</th>\n",
       "      <th>grc97</th>\n",
       "      <th>sc97</th>\n",
       "    </tr>\n",
       "  </thead>\n",
       "  <tbody>\n",
       "    <tr>\n",
       "      <th>0</th>\n",
       "      <td>97</td>\n",
       "      <td>0.0</td>\n",
       "      <td>0.0</td>\n",
       "      <td>4.473</td>\n",
       "      <td>1.0</td>\n",
       "      <td>7.0</td>\n",
       "      <td>7</td>\n",
       "      <td>21.168384</td>\n",
       "      <td>21.168384</td>\n",
       "      <td>1</td>\n",
       "      <td>...</td>\n",
       "      <td>6</td>\n",
       "      <td>0.0</td>\n",
       "      <td>583.0</td>\n",
       "      <td>1.0</td>\n",
       "      <td>35.0</td>\n",
       "      <td>13</td>\n",
       "      <td>163</td>\n",
       "      <td>1</td>\n",
       "      <td>7</td>\n",
       "      <td>1.0</td>\n",
       "    </tr>\n",
       "    <tr>\n",
       "      <th>1</th>\n",
       "      <td>98</td>\n",
       "      <td>0.0</td>\n",
       "      <td>0.0</td>\n",
       "      <td>4.473</td>\n",
       "      <td>1.0</td>\n",
       "      <td>8.0</td>\n",
       "      <td>7</td>\n",
       "      <td>21.168384</td>\n",
       "      <td>21.168384</td>\n",
       "      <td>1</td>\n",
       "      <td>...</td>\n",
       "      <td>6</td>\n",
       "      <td>0.0</td>\n",
       "      <td>583.0</td>\n",
       "      <td>1.0</td>\n",
       "      <td>35.0</td>\n",
       "      <td>14</td>\n",
       "      <td>163</td>\n",
       "      <td>1</td>\n",
       "      <td>7</td>\n",
       "      <td>1.0</td>\n",
       "    </tr>\n",
       "    <tr>\n",
       "      <th>2</th>\n",
       "      <td>97</td>\n",
       "      <td>1.0</td>\n",
       "      <td>0.0</td>\n",
       "      <td>4.473</td>\n",
       "      <td>1.0</td>\n",
       "      <td>6.0</td>\n",
       "      <td>7</td>\n",
       "      <td>21.168384</td>\n",
       "      <td>21.168384</td>\n",
       "      <td>1</td>\n",
       "      <td>...</td>\n",
       "      <td>6</td>\n",
       "      <td>0.0</td>\n",
       "      <td>583.0</td>\n",
       "      <td>1.0</td>\n",
       "      <td>35.0</td>\n",
       "      <td>12</td>\n",
       "      <td>163</td>\n",
       "      <td>2</td>\n",
       "      <td>6</td>\n",
       "      <td>1.0</td>\n",
       "    </tr>\n",
       "    <tr>\n",
       "      <th>3</th>\n",
       "      <td>98</td>\n",
       "      <td>1.0</td>\n",
       "      <td>0.0</td>\n",
       "      <td>4.473</td>\n",
       "      <td>1.0</td>\n",
       "      <td>7.0</td>\n",
       "      <td>7</td>\n",
       "      <td>21.168384</td>\n",
       "      <td>21.168384</td>\n",
       "      <td>1</td>\n",
       "      <td>...</td>\n",
       "      <td>6</td>\n",
       "      <td>0.0</td>\n",
       "      <td>583.0</td>\n",
       "      <td>1.0</td>\n",
       "      <td>35.0</td>\n",
       "      <td>13</td>\n",
       "      <td>163</td>\n",
       "      <td>2</td>\n",
       "      <td>6</td>\n",
       "      <td>1.0</td>\n",
       "    </tr>\n",
       "    <tr>\n",
       "      <th>4</th>\n",
       "      <td>97</td>\n",
       "      <td>0.0</td>\n",
       "      <td>0.0</td>\n",
       "      <td>4.473</td>\n",
       "      <td>1.0</td>\n",
       "      <td>2.0</td>\n",
       "      <td>7</td>\n",
       "      <td>21.168384</td>\n",
       "      <td>21.168384</td>\n",
       "      <td>1</td>\n",
       "      <td>...</td>\n",
       "      <td>6</td>\n",
       "      <td>0.0</td>\n",
       "      <td>583.0</td>\n",
       "      <td>1.0</td>\n",
       "      <td>35.0</td>\n",
       "      <td>8</td>\n",
       "      <td>163</td>\n",
       "      <td>3</td>\n",
       "      <td>2</td>\n",
       "      <td>1.0</td>\n",
       "    </tr>\n",
       "  </tbody>\n",
       "</table>\n",
       "<p>5 rows × 21 columns</p>\n",
       "</div>"
      ],
      "text/plain": [
       "   year  sex  indig  dist_sec   sc  grc  fam_n   min_dist   dist_cap  poor  \\\n",
       "0    97  0.0    0.0     4.473  1.0  7.0      7  21.168384  21.168384     1   \n",
       "1    98  0.0    0.0     4.473  1.0  8.0      7  21.168384  21.168384     1   \n",
       "2    97  1.0    0.0     4.473  1.0  6.0      7  21.168384  21.168384     1   \n",
       "3    98  1.0    0.0     4.473  1.0  7.0      7  21.168384  21.168384     1   \n",
       "4    97  0.0    0.0     4.473  1.0  2.0      7  21.168384  21.168384     1   \n",
       "\n",
       "   ...   hohedu  hohwag  welfare_index  hohsex  hohage  age  village  folnum  \\\n",
       "0  ...        6     0.0          583.0     1.0    35.0   13      163       1   \n",
       "1  ...        6     0.0          583.0     1.0    35.0   14      163       1   \n",
       "2  ...        6     0.0          583.0     1.0    35.0   12      163       2   \n",
       "3  ...        6     0.0          583.0     1.0    35.0   13      163       2   \n",
       "4  ...        6     0.0          583.0     1.0    35.0    8      163       3   \n",
       "\n",
       "   grc97  sc97  \n",
       "0      7   1.0  \n",
       "1      7   1.0  \n",
       "2      6   1.0  \n",
       "3      6   1.0  \n",
       "4      2   1.0  \n",
       "\n",
       "[5 rows x 21 columns]"
      ]
     },
     "execution_count": 205,
     "metadata": {},
     "output_type": "execute_result"
    }
   ],
   "source": [
    "# Creating lists to store temporary values\n",
    "x = []\n",
    "y = []\n",
    "\n",
    "# Replace 'pobre' by 1 i.e to assign the value of 1 to poor families\n",
    "for a in prog.poor:\n",
    "    if a == 'pobre':\n",
    "        x.append(1)\n",
    "    else:\n",
    "        x.append(0)\n",
    "\n",
    "# Replace 'basal' by 1 i.e to assign the value of 1 to treatment groups\n",
    "for b in prog.progresa:\n",
    "    if b == 'basal':\n",
    "        y.append(1)\n",
    "    else:\n",
    "        y.append(0)\n",
    "\n",
    "# Update poor and progresa columns by updated values. This is required later in the analysis for running our regression and difference calculations.\n",
    "\n",
    "prog.poor = x\n",
    "prog.progresa = y\n",
    "\n",
    "prog.head()"
   ]
  },
  {
   "cell_type": "markdown",
   "metadata": {
    "ein.tags": [
     "worksheet-0"
    ],
    "slideshow": {
     "slide_type": "-"
    }
   },
   "source": [
    "---\n",
    "##Part 1: Descriptive analysis\n",
    "\n",
    "### 1.1\tSummary Statistics"
   ]
  },
  {
   "cell_type": "code",
   "execution_count": 206,
   "metadata": {
    "autoscroll": "json-false",
    "ein.tags": [
     "worksheet-0"
    ],
    "slideshow": {
     "slide_type": "-"
    }
   },
   "outputs": [
    {
     "data": {
      "text/plain": [
       "year                0\n",
       "sex                24\n",
       "indig             300\n",
       "dist_sec            0\n",
       "sc               8453\n",
       "grc              6549\n",
       "fam_n               0\n",
       "min_dist            0\n",
       "dist_cap            0\n",
       "poor                0\n",
       "progresa            0\n",
       "hohedu              0\n",
       "hohwag              0\n",
       "welfare_index     210\n",
       "hohsex             20\n",
       "hohage             10\n",
       "age                 0\n",
       "village             0\n",
       "folnum              0\n",
       "grc97               0\n",
       "sc97             3872\n",
       "dtype: int64"
      ]
     },
     "execution_count": 206,
     "metadata": {},
     "output_type": "execute_result"
    }
   ],
   "source": [
    "prog.isnull().sum()"
   ]
  },
  {
   "cell_type": "code",
   "execution_count": 207,
   "metadata": {
    "autoscroll": "json-false",
    "ein.tags": [
     "worksheet-0"
    ],
    "slideshow": {
     "slide_type": "-"
    }
   },
   "outputs": [
    {
     "name": "stderr",
     "output_type": "stream",
     "text": [
      "//anaconda/lib/python3.5/site-packages/numpy/lib/function_base.py:3834: RuntimeWarning: Invalid value encountered in percentile\n",
      "  RuntimeWarning)\n"
     ]
    },
    {
     "data": {
      "text/html": [
       "<div>\n",
       "<table border=\"1\" class=\"dataframe\">\n",
       "  <thead>\n",
       "    <tr style=\"text-align: right;\">\n",
       "      <th></th>\n",
       "      <th>mean</th>\n",
       "      <th>std</th>\n",
       "    </tr>\n",
       "  </thead>\n",
       "  <tbody>\n",
       "    <tr>\n",
       "      <th>age</th>\n",
       "      <td>11.366460</td>\n",
       "      <td>3.167744</td>\n",
       "    </tr>\n",
       "    <tr>\n",
       "      <th>dist_cap</th>\n",
       "      <td>147.674452</td>\n",
       "      <td>76.063134</td>\n",
       "    </tr>\n",
       "    <tr>\n",
       "      <th>dist_sec</th>\n",
       "      <td>2.418910</td>\n",
       "      <td>2.234109</td>\n",
       "    </tr>\n",
       "    <tr>\n",
       "      <th>fam_n</th>\n",
       "      <td>7.215715</td>\n",
       "      <td>2.352900</td>\n",
       "    </tr>\n",
       "    <tr>\n",
       "      <th>grc</th>\n",
       "      <td>3.963537</td>\n",
       "      <td>2.499063</td>\n",
       "    </tr>\n",
       "    <tr>\n",
       "      <th>grc97</th>\n",
       "      <td>3.705372</td>\n",
       "      <td>2.572387</td>\n",
       "    </tr>\n",
       "    <tr>\n",
       "      <th>hohage</th>\n",
       "      <td>44.436717</td>\n",
       "      <td>11.620372</td>\n",
       "    </tr>\n",
       "    <tr>\n",
       "      <th>hohedu</th>\n",
       "      <td>2.768104</td>\n",
       "      <td>2.656106</td>\n",
       "    </tr>\n",
       "    <tr>\n",
       "      <th>hohsex</th>\n",
       "      <td>0.925185</td>\n",
       "      <td>0.263095</td>\n",
       "    </tr>\n",
       "    <tr>\n",
       "      <th>hohwag</th>\n",
       "      <td>586.985312</td>\n",
       "      <td>788.133664</td>\n",
       "    </tr>\n",
       "    <tr>\n",
       "      <th>indig</th>\n",
       "      <td>0.298324</td>\n",
       "      <td>0.457525</td>\n",
       "    </tr>\n",
       "    <tr>\n",
       "      <th>min_dist</th>\n",
       "      <td>103.447520</td>\n",
       "      <td>42.089441</td>\n",
       "    </tr>\n",
       "    <tr>\n",
       "      <th>poor</th>\n",
       "      <td>0.846498</td>\n",
       "      <td>0.360473</td>\n",
       "    </tr>\n",
       "    <tr>\n",
       "      <th>progresa</th>\n",
       "      <td>0.615663</td>\n",
       "      <td>0.486441</td>\n",
       "    </tr>\n",
       "    <tr>\n",
       "      <th>sc</th>\n",
       "      <td>0.819818</td>\n",
       "      <td>0.384342</td>\n",
       "    </tr>\n",
       "    <tr>\n",
       "      <th>sc97</th>\n",
       "      <td>0.813922</td>\n",
       "      <td>0.389172</td>\n",
       "    </tr>\n",
       "    <tr>\n",
       "      <th>sex</th>\n",
       "      <td>0.512211</td>\n",
       "      <td>0.499854</td>\n",
       "    </tr>\n",
       "    <tr>\n",
       "      <th>welfare_index</th>\n",
       "      <td>690.346564</td>\n",
       "      <td>139.491130</td>\n",
       "    </tr>\n",
       "  </tbody>\n",
       "</table>\n",
       "</div>"
      ],
      "text/plain": [
       "                     mean         std\n",
       "age             11.366460    3.167744\n",
       "dist_cap       147.674452   76.063134\n",
       "dist_sec         2.418910    2.234109\n",
       "fam_n            7.215715    2.352900\n",
       "grc              3.963537    2.499063\n",
       "grc97            3.705372    2.572387\n",
       "hohage          44.436717   11.620372\n",
       "hohedu           2.768104    2.656106\n",
       "hohsex           0.925185    0.263095\n",
       "hohwag         586.985312  788.133664\n",
       "indig            0.298324    0.457525\n",
       "min_dist       103.447520   42.089441\n",
       "poor             0.846498    0.360473\n",
       "progresa         0.615663    0.486441\n",
       "sc               0.819818    0.384342\n",
       "sc97             0.813922    0.389172\n",
       "sex              0.512211    0.499854\n",
       "welfare_index  690.346564  139.491130"
      ]
     },
     "execution_count": 207,
     "metadata": {},
     "output_type": "execute_result"
    }
   ],
   "source": [
    "temp = prog.drop(['year','folnum','village'],axis = 1).describe()\n",
    "temp.loc[[\"mean\",\"std\"],:].transpose().sort_index()"
   ]
  },
  {
   "cell_type": "markdown",
   "metadata": {
    "ein.tags": [
     "worksheet-0"
    ],
    "slideshow": {
     "slide_type": "-"
    }
   },
   "source": [
    "### 1.2 Differences at baseline?\n",
    "\n",
    "Are the baseline (1997) demographic characteristics **for the poor**  different in treatment and control villages? "
   ]
  },
  {
   "cell_type": "code",
   "execution_count": 208,
   "metadata": {
    "autoscroll": "json-false",
    "ein.tags": [
     "worksheet-0"
    ],
    "slideshow": {
     "slide_type": "-"
    }
   },
   "outputs": [],
   "source": [
    "prog = prog.dropna()\n",
    "# Filter Data for treatment group , characteristics = poor and year 1997\n",
    "treatment_df = prog[(prog.poor==1)&(prog.year==97)&(prog.progresa==1)]\n",
    "# Drop the year, folnum and village columns since we won't be needing them for now\n",
    "treatment_mean= treatment_df.drop(['year', 'folnum', 'village','poor','progresa'], axis=1).mean()"
   ]
  },
  {
   "cell_type": "code",
   "execution_count": 209,
   "metadata": {
    "collapsed": true
   },
   "outputs": [],
   "source": [
    "# Filter Data for control group , characteristics = poor and year 1997\n",
    "control_df = prog[(prog.poor==1)&(prog.year==97)&(prog.progresa==0)]\n",
    "# Drop the year, folnum and village columns since we won't be needing them for now\n",
    "control_mean = control_df.drop(['year', 'folnum', 'village','poor','progresa'], axis=1).mean()"
   ]
  },
  {
   "cell_type": "code",
   "execution_count": 210,
   "metadata": {},
   "outputs": [],
   "source": [
    "# Create dataframe structure as per the question and insert average values for treatment and control for each categories\n",
    "diff_df = pd.DataFrame({'Variable name':treatment_mean.index, 'Average value (Treatment villages)':treatment_mean.values, \n",
    "                         'Average value (Control villages)':control_mean.values},\n",
    "                       columns = ['Variable name', 'Average value (Treatment villages)', 'Average value (Control villages)'])\n",
    "\n",
    "# Insert difference between treatment and control into the dataframe\n",
    "diff_df['Difference (Treat - Control)'] = diff_df['Average value (Treatment villages)'] - diff_df['Average value (Control villages)']"
   ]
  },
  {
   "cell_type": "code",
   "execution_count": 211,
   "metadata": {},
   "outputs": [],
   "source": [
    "# Creating empty dictionary to hold the p-values\n",
    "pdict = {}\n",
    "\n",
    "# Insert p-values for each group into the dictionary\n",
    "for i in treatment_mean.index:\n",
    "    pdict.update({i: ttest_ind(treatment_df[i],control_df[i]).pvalue})\n",
    "\n",
    "# Append the p-values into the dataframe created earlier\n",
    "diff_df['p-value'] = diff_df['Variable name'].map(pdict)"
   ]
  },
  {
   "cell_type": "code",
   "execution_count": 212,
   "metadata": {},
   "outputs": [
    {
     "data": {
      "text/html": [
       "<div>\n",
       "<table border=\"1\" class=\"dataframe\">\n",
       "  <thead>\n",
       "    <tr style=\"text-align: right;\">\n",
       "      <th></th>\n",
       "      <th>Variable name</th>\n",
       "      <th>Average value (Treatment villages)</th>\n",
       "      <th>Average value (Control villages)</th>\n",
       "      <th>Difference (Treat - Control)</th>\n",
       "      <th>p-value</th>\n",
       "    </tr>\n",
       "  </thead>\n",
       "  <tbody>\n",
       "    <tr>\n",
       "      <th>0</th>\n",
       "      <td>sex</td>\n",
       "      <td>0.520268</td>\n",
       "      <td>0.506556</td>\n",
       "      <td>0.013713</td>\n",
       "      <td>1.956962e-02</td>\n",
       "    </tr>\n",
       "    <tr>\n",
       "      <th>1</th>\n",
       "      <td>indig</td>\n",
       "      <td>0.316744</td>\n",
       "      <td>0.325306</td>\n",
       "      <td>-0.008562</td>\n",
       "      <td>1.183760e-01</td>\n",
       "    </tr>\n",
       "    <tr>\n",
       "      <th>2</th>\n",
       "      <td>dist_sec</td>\n",
       "      <td>2.399648</td>\n",
       "      <td>2.400687</td>\n",
       "      <td>-0.001039</td>\n",
       "      <td>9.670949e-01</td>\n",
       "    </tr>\n",
       "    <tr>\n",
       "      <th>3</th>\n",
       "      <td>sc</td>\n",
       "      <td>0.822697</td>\n",
       "      <td>0.815066</td>\n",
       "      <td>0.007631</td>\n",
       "      <td>9.117959e-02</td>\n",
       "    </tr>\n",
       "    <tr>\n",
       "      <th>4</th>\n",
       "      <td>grc</td>\n",
       "      <td>3.709214</td>\n",
       "      <td>3.733653</td>\n",
       "      <td>-0.024439</td>\n",
       "      <td>3.947750e-01</td>\n",
       "    </tr>\n",
       "    <tr>\n",
       "      <th>5</th>\n",
       "      <td>fam_n</td>\n",
       "      <td>7.281032</td>\n",
       "      <td>7.302939</td>\n",
       "      <td>-0.021907</td>\n",
       "      <td>4.236088e-01</td>\n",
       "    </tr>\n",
       "    <tr>\n",
       "      <th>6</th>\n",
       "      <td>min_dist</td>\n",
       "      <td>107.395231</td>\n",
       "      <td>103.098348</td>\n",
       "      <td>4.296884</td>\n",
       "      <td>1.936661e-18</td>\n",
       "    </tr>\n",
       "    <tr>\n",
       "      <th>7</th>\n",
       "      <td>dist_cap</td>\n",
       "      <td>151.801472</td>\n",
       "      <td>154.492095</td>\n",
       "      <td>-2.690622</td>\n",
       "      <td>3.414194e-03</td>\n",
       "    </tr>\n",
       "    <tr>\n",
       "      <th>8</th>\n",
       "      <td>hohedu</td>\n",
       "      <td>2.726729</td>\n",
       "      <td>2.660982</td>\n",
       "      <td>0.065747</td>\n",
       "      <td>2.613239e-02</td>\n",
       "    </tr>\n",
       "    <tr>\n",
       "      <th>9</th>\n",
       "      <td>hohwag</td>\n",
       "      <td>550.207086</td>\n",
       "      <td>580.694452</td>\n",
       "      <td>-30.487366</td>\n",
       "      <td>2.727661e-04</td>\n",
       "    </tr>\n",
       "    <tr>\n",
       "      <th>10</th>\n",
       "      <td>welfare_index</td>\n",
       "      <td>656.810476</td>\n",
       "      <td>661.593513</td>\n",
       "      <td>-4.783037</td>\n",
       "      <td>3.724043e-04</td>\n",
       "    </tr>\n",
       "    <tr>\n",
       "      <th>11</th>\n",
       "      <td>hohsex</td>\n",
       "      <td>0.925586</td>\n",
       "      <td>0.923387</td>\n",
       "      <td>0.002199</td>\n",
       "      <td>4.781232e-01</td>\n",
       "    </tr>\n",
       "    <tr>\n",
       "      <th>12</th>\n",
       "      <td>hohage</td>\n",
       "      <td>43.631234</td>\n",
       "      <td>44.270717</td>\n",
       "      <td>-0.639483</td>\n",
       "      <td>1.925767e-06</td>\n",
       "    </tr>\n",
       "    <tr>\n",
       "      <th>13</th>\n",
       "      <td>age</td>\n",
       "      <td>10.743825</td>\n",
       "      <td>10.785586</td>\n",
       "      <td>-0.041761</td>\n",
       "      <td>2.476155e-01</td>\n",
       "    </tr>\n",
       "    <tr>\n",
       "      <th>14</th>\n",
       "      <td>grc97</td>\n",
       "      <td>3.709214</td>\n",
       "      <td>3.733653</td>\n",
       "      <td>-0.024439</td>\n",
       "      <td>3.947750e-01</td>\n",
       "    </tr>\n",
       "    <tr>\n",
       "      <th>15</th>\n",
       "      <td>sc97</td>\n",
       "      <td>0.822697</td>\n",
       "      <td>0.815066</td>\n",
       "      <td>0.007631</td>\n",
       "      <td>9.117959e-02</td>\n",
       "    </tr>\n",
       "  </tbody>\n",
       "</table>\n",
       "</div>"
      ],
      "text/plain": [
       "    Variable name  Average value (Treatment villages)  \\\n",
       "0             sex                            0.520268   \n",
       "1           indig                            0.316744   \n",
       "2        dist_sec                            2.399648   \n",
       "3              sc                            0.822697   \n",
       "4             grc                            3.709214   \n",
       "5           fam_n                            7.281032   \n",
       "6        min_dist                          107.395231   \n",
       "7        dist_cap                          151.801472   \n",
       "8          hohedu                            2.726729   \n",
       "9          hohwag                          550.207086   \n",
       "10  welfare_index                          656.810476   \n",
       "11         hohsex                            0.925586   \n",
       "12         hohage                           43.631234   \n",
       "13            age                           10.743825   \n",
       "14          grc97                            3.709214   \n",
       "15           sc97                            0.822697   \n",
       "\n",
       "    Average value (Control villages)  Difference (Treat - Control)  \\\n",
       "0                           0.506556                      0.013713   \n",
       "1                           0.325306                     -0.008562   \n",
       "2                           2.400687                     -0.001039   \n",
       "3                           0.815066                      0.007631   \n",
       "4                           3.733653                     -0.024439   \n",
       "5                           7.302939                     -0.021907   \n",
       "6                         103.098348                      4.296884   \n",
       "7                         154.492095                     -2.690622   \n",
       "8                           2.660982                      0.065747   \n",
       "9                         580.694452                    -30.487366   \n",
       "10                        661.593513                     -4.783037   \n",
       "11                          0.923387                      0.002199   \n",
       "12                         44.270717                     -0.639483   \n",
       "13                         10.785586                     -0.041761   \n",
       "14                          3.733653                     -0.024439   \n",
       "15                          0.815066                      0.007631   \n",
       "\n",
       "         p-value  \n",
       "0   1.956962e-02  \n",
       "1   1.183760e-01  \n",
       "2   9.670949e-01  \n",
       "3   9.117959e-02  \n",
       "4   3.947750e-01  \n",
       "5   4.236088e-01  \n",
       "6   1.936661e-18  \n",
       "7   3.414194e-03  \n",
       "8   2.613239e-02  \n",
       "9   2.727661e-04  \n",
       "10  3.724043e-04  \n",
       "11  4.781232e-01  \n",
       "12  1.925767e-06  \n",
       "13  2.476155e-01  \n",
       "14  3.947750e-01  \n",
       "15  9.117959e-02  "
      ]
     },
     "execution_count": 212,
     "metadata": {},
     "output_type": "execute_result"
    }
   ],
   "source": [
    "# Print the dataframe\n",
    "diff_df"
   ]
  },
  {
   "cell_type": "code",
   "execution_count": 213,
   "metadata": {},
   "outputs": [
    {
     "name": "stdout",
     "output_type": "stream",
     "text": [
      "Below are the variables with statistically significant differences at baseline: \n",
      "\n",
      "dist_cap\n",
      "hohedu\n",
      "welfare_index\n",
      "min_dist\n",
      "hohage\n",
      "hohwag\n",
      "sex\n"
     ]
    }
   ],
   "source": [
    "print(\"Below are the variables with statistically significant differences at baseline: \\n\")\n",
    "for key, value in pdict.items():\n",
    "    if value < 0.05:\n",
    "        print(key)"
   ]
  },
  {
   "cell_type": "markdown",
   "metadata": {
    "ein.tags": [
     "worksheet-0"
    ],
    "slideshow": {
     "slide_type": "-"
    }
   },
   "source": [
    "### 1.3 Interpretation\n",
    "\n",
    "* A: Are there statistically significant differences between treatment and control villages as baseline? \n",
    "* B: Why does it matter if there are differences at baseline?\n",
    "* C: What does this imply about how to measure the impact of the treatment?"
   ]
  },
  {
   "cell_type": "markdown",
   "metadata": {},
   "source": [
    "From the above results, we see that there are statistically significant differences between treatment and control villages at baseline for the below variable:\n",
    "    1. Enrollment in school\n",
    "    2. Minimum distance to capital\n",
    "    3. Years of Schooling of head of household\n",
    "    4. Nearest distance to secondary school\n",
    "    5. Age of head of household\n",
    "    6. Gender\n",
    "    "
   ]
  },
  {
   "cell_type": "markdown",
   "metadata": {
    "autoscroll": "json-false",
    "ein.tags": [
     "worksheet-0"
    ],
    "slideshow": {
     "slide_type": "-"
    }
   },
   "source": [
    "If we chose to analyse the efficiency of the program by comparing the treatment and control group values only post treatment, we may arrive at a wrong conclusing, as such difference may have already existed before start of the treatment ( In this case, before the start of the program)."
   ]
  },
  {
   "cell_type": "markdown",
   "metadata": {
    "ein.tags": [
     "worksheet-0"
    ],
    "slideshow": {
     "slide_type": "-"
    }
   },
   "source": [
    "### 1.4 Graphical exploration, part 1"
   ]
  },
  {
   "cell_type": "code",
   "execution_count": 215,
   "metadata": {
    "autoscroll": "json-false",
    "ein.tags": [
     "worksheet-0"
    ],
    "slideshow": {
     "slide_type": "-"
    }
   },
   "outputs": [
    {
     "data": {
      "text/plain": [
       "<matplotlib.text.Text at 0x114cbbcc0>"
      ]
     },
     "execution_count": 215,
     "metadata": {},
     "output_type": "execute_result"
    },
    {
     "data": {
      "image/png": "[encoded data removed]",
      "text/plain": [
       "<matplotlib.figure.Figure at 0x117f75b00>"
      ]
     },
     "metadata": {
      "image/png": {
       "height": 377,
       "width": 542
      }
     },
     "output_type": "display_data"
    }
   ],
   "source": [
    "avg_ed_df = prog[prog['year']== 97].groupby('hohedu')['sc97'].mean()\n",
    "#avg_ed_df.tail()\n",
    "plt.scatter(avg_ed_df.index,avg_ed_df)\n",
    "plt.xlabel('Level of household head education')\n",
    "plt.ylabel('Average enrolment rates (1997)')"
   ]
  },
  {
   "cell_type": "code",
   "execution_count": 216,
   "metadata": {},
   "outputs": [
    {
     "data": {
      "text/plain": [
       "2"
      ]
     },
     "execution_count": 216,
     "metadata": {},
     "output_type": "execute_result"
    }
   ],
   "source": [
    "len(prog[prog.hohedu == 20])"
   ]
  },
  {
   "cell_type": "markdown",
   "metadata": {},
   "source": [
    "From the above scatterplot, we observe that as the level of household head education increases, the average enrollment rate also follows a general upward tread. In other words, if the head of the household is well educated, they are more likely to send their children to school.\n",
    "We do see an outlier for the case hohedu = 20, where we see a very low enrolment rate.\n",
    "On further analysis, we see there are only 4 observation for this level, that may account for the surprisingly low number."
   ]
  },
  {
   "cell_type": "code",
   "execution_count": 179,
   "metadata": {
    "autoscroll": "json-false",
    "ein.tags": [
     "worksheet-0"
    ],
    "slideshow": {
     "slide_type": "-"
    }
   },
   "outputs": [],
   "source": [
    "prog_97 = prog[(prog.year==97) & (prog.progresa==1) & (prog.poor==1)].groupby('village')['sc'].mean()\n",
    "prog_98 = prog[(prog.year==98) & (prog.progresa==1) & (prog.poor==1)].groupby('village')['sc'].mean()"
   ]
  },
  {
   "cell_type": "code",
   "execution_count": 180,
   "metadata": {},
   "outputs": [
    {
     "data": {
      "text/plain": [
       "<matplotlib.lines.Line2D at 0x117d40da0>"
      ]
     },
     "execution_count": 180,
     "metadata": {},
     "output_type": "execute_result"
    },
    {
     "data": {
      "image/png": "[encoded data removed]",
      "text/plain": [
       "<matplotlib.figure.Figure at 0x104aaec18>"
      ]
     },
     "metadata": {
      "image/png": {
       "height": 377,
       "width": 519
      }
     },
     "output_type": "display_data"
    }
   ],
   "source": [
    "plt.hist(prog_97)\n",
    "#range=[0.0, 1.0]\n",
    "plt.xlabel('Mean Enrolment in 1997')\n",
    "plt.axvline(x = prog_97.mean(),linewidth=2, color='r')"
   ]
  },
  {
   "cell_type": "code",
   "execution_count": 181,
   "metadata": {},
   "outputs": [
    {
     "data": {
      "text/plain": [
       "<matplotlib.lines.Line2D at 0x114c7f550>"
      ]
     },
     "execution_count": 181,
     "metadata": {},
     "output_type": "execute_result"
    },
    {
     "data": {
      "image/png": "[encoded data removed]",
      "text/plain": [
       "<matplotlib.figure.Figure at 0x117d04828>"
      ]
     },
     "metadata": {
      "image/png": {
       "height": 377,
       "width": 519
      }
     },
     "output_type": "display_data"
    }
   ],
   "source": [
    "plt.hist(prog_98,range = [prog_98.min(),1.0])\n",
    "plt.xlabel('Mean Enrolment 1998')\n",
    "plt.axvline(x = prog_98.mean(),linewidth=2, color='r')"
   ]
  },
  {
   "cell_type": "code",
   "execution_count": 182,
   "metadata": {},
   "outputs": [
    {
     "data": {
      "text/plain": [
       "0.010587739721624679"
      ]
     },
     "execution_count": 182,
     "metadata": {},
     "output_type": "execute_result"
    }
   ],
   "source": [
    "# Measuring statistical significance of mean enrollment rates between 1997 & 1998\n",
    "ttest_ind(prog_97, prog_98).pvalue"
   ]
  },
  {
   "cell_type": "markdown",
   "metadata": {},
   "source": [
    "There appears to be a difference between the average enrolment rates among poor households in treated villages before and after the treatment.\n",
    "A p-value of 0.01 leads us to believe that this difference may be statistically significant!"
   ]
  },
  {
   "cell_type": "markdown",
   "metadata": {
    "ein.tags": [
     "worksheet-0"
    ],
    "slideshow": {
     "slide_type": "-"
    }
   },
   "source": [
    "## Part 2: Measuring Impact\n",
    "\n",
    "### 2.1 Simple differences: T-test"
   ]
  },
  {
   "cell_type": "code",
   "execution_count": 226,
   "metadata": {
    "autoscroll": "json-false",
    "ein.tags": [
     "worksheet-0"
    ],
    "slideshow": {
     "slide_type": "-"
    }
   },
   "outputs": [],
   "source": [
    "# Filter Data for treatment group , characteristics = poor and year 1998\n",
    "treatment_df_98 = prog[(prog.poor==1)&(prog.year==98)&(prog.progresa==1)]\n",
    "# Drop the year, folnum and village columns since we won't be needing them for now\n",
    "treatment_mean_98= treatment_df_98.drop(['year', 'folnum', 'village'], axis=1).mean()\n",
    "treatment_mean_98 = treatment_mean_98.iloc[3:4]"
   ]
  },
  {
   "cell_type": "code",
   "execution_count": 227,
   "metadata": {},
   "outputs": [],
   "source": [
    "# Filter Data for control group , characteristics = poor and year 1998\n",
    "control_df_98 = prog[(prog.poor==1)&(prog.year==98)&(prog.progresa==0)]\n",
    "# Drop the year, folnum and village columns since we won't be needing them for now\n",
    "control_mean_98 = control_df_98.drop(['year', 'folnum', 'village'], axis=1).mean()\n",
    "control_mean_98 = control_mean_98.iloc[3:4]"
   ]
  },
  {
   "cell_type": "code",
   "execution_count": 228,
   "metadata": {
    "collapsed": true
   },
   "outputs": [],
   "source": [
    "# Create dataframe structure as per the question and insert average values for treatment and control for each categories\n",
    "diff_df_98 = pd.DataFrame({'Variable name':treatment_mean_98.index, 'Average value (Treatment villages)':treatment_mean_98.values, \n",
    "                         'Average value (Control villages)':control_mean_98.values},\n",
    "                       columns = ['Variable name', 'Average value (Treatment villages)', 'Average value (Control villages)'])\n",
    "\n",
    "# Insert difference between treatment and control into the dataframe\n",
    "diff_df_98['Difference (Treat - Control)'] = diff_df_98['Average value (Treatment villages)'] - diff_df_98['Average value (Control villages)']"
   ]
  },
  {
   "cell_type": "code",
   "execution_count": 229,
   "metadata": {
    "collapsed": true
   },
   "outputs": [],
   "source": [
    "# Creating empty dictionary to hold the p-values\n",
    "pdict_1 = {}\n",
    "\n",
    "# Insert p-values for each group into the dictionary\n",
    "for i in treatment_mean_98.index:\n",
    "    pdict_1.update({i: ttest_ind(treatment_df_98[i],control_df_98[i]).pvalue})\n",
    "\n",
    "# Append the p-values into the dataframe created earlier\n",
    "diff_df_98['p-value'] = diff_df_98['Variable name'].map(pdict_1)"
   ]
  },
  {
   "cell_type": "code",
   "execution_count": 230,
   "metadata": {},
   "outputs": [
    {
     "name": "stdout",
     "output_type": "stream",
     "text": [
      "Below is the difference between average enrollment among poor households in the Treatment villages and the average enrollment rate among poor households in the control villages in the year 1998, along with the p-value: \n",
      " \n"
     ]
    },
    {
     "data": {
      "text/html": [
       "<div>\n",
       "<table border=\"1\" class=\"dataframe\">\n",
       "  <thead>\n",
       "    <tr style=\"text-align: right;\">\n",
       "      <th></th>\n",
       "      <th>Variable name</th>\n",
       "      <th>Average value (Treatment villages)</th>\n",
       "      <th>Average value (Control villages)</th>\n",
       "      <th>Difference (Treat - Control)</th>\n",
       "      <th>p-value</th>\n",
       "    </tr>\n",
       "  </thead>\n",
       "  <tbody>\n",
       "    <tr>\n",
       "      <th>0</th>\n",
       "      <td>sc</td>\n",
       "      <td>0.849257</td>\n",
       "      <td>0.810923</td>\n",
       "      <td>0.038334</td>\n",
       "      <td>5.656456e-16</td>\n",
       "    </tr>\n",
       "  </tbody>\n",
       "</table>\n",
       "</div>"
      ],
      "text/plain": [
       "  Variable name  Average value (Treatment villages)  \\\n",
       "0            sc                            0.849257   \n",
       "\n",
       "   Average value (Control villages)  Difference (Treat - Control)  \\\n",
       "0                          0.810923                      0.038334   \n",
       "\n",
       "        p-value  \n",
       "0  5.656456e-16  "
      ]
     },
     "execution_count": 230,
     "metadata": {},
     "output_type": "execute_result"
    }
   ],
   "source": [
    "print('Below is the difference between average enrollment among poor households in the Treatment villages and the average enrollment rate among poor households in the control villages in the year 1998, along with the p-value: \\n ')\n",
    "diff_df_98"
   ]
  },
  {
   "cell_type": "markdown",
   "metadata": {},
   "source": [
    "We do see a difference between average enrollment among poor households in the Treatment villages and the average enrollment rate among poor households in the control villages, after the treatment. A p-value of < 0.05 leads us to believe this difference is statistically significant. In other word, the treatment had an effect of increasing enrollment rates.\n",
    "However, from our previous analysis (1.2), we had seen a statistically significant difference before the treatment as well i.e in the year 1997.  \n",
    "Hence, our conclusion that the treatment was effective solely based on the difference in enrollment among group after treatment, may be misleading!"
   ]
  },
  {
   "cell_type": "markdown",
   "metadata": {
    "ein.tags": [
     "worksheet-0"
    ],
    "slideshow": {
     "slide_type": "-"
    }
   },
   "source": [
    "### 2.2 Simple differences: Regression"
   ]
  },
  {
   "cell_type": "code",
   "execution_count": 231,
   "metadata": {
    "autoscroll": "json-false",
    "ein.tags": [
     "worksheet-0"
    ],
    "slideshow": {
     "slide_type": "-"
    }
   },
   "outputs": [
    {
     "data": {
      "text/html": [
       "<table class=\"simpletable\">\n",
       "<caption>OLS Regression Results</caption>\n",
       "<tr>\n",
       "  <th>Dep. Variable:</th>           <td>sc</td>        <th>  R-squared:         </th> <td>   0.003</td> \n",
       "</tr>\n",
       "<tr>\n",
       "  <th>Model:</th>                   <td>OLS</td>       <th>  Adj. R-squared:    </th> <td>   0.002</td> \n",
       "</tr>\n",
       "<tr>\n",
       "  <th>Method:</th>             <td>Least Squares</td>  <th>  F-statistic:       </th> <td>   65.64</td> \n",
       "</tr>\n",
       "<tr>\n",
       "  <th>Date:</th>             <td>Tue, 02 May 2017</td> <th>  Prob (F-statistic):</th> <td>5.66e-16</td> \n",
       "</tr>\n",
       "<tr>\n",
       "  <th>Time:</th>                 <td>14:00:06</td>     <th>  Log-Likelihood:    </th> <td> -11171.</td> \n",
       "</tr>\n",
       "<tr>\n",
       "  <th>No. Observations:</th>      <td> 26155</td>      <th>  AIC:               </th> <td>2.235e+04</td>\n",
       "</tr>\n",
       "<tr>\n",
       "  <th>Df Residuals:</th>          <td> 26153</td>      <th>  BIC:               </th> <td>2.236e+04</td>\n",
       "</tr>\n",
       "<tr>\n",
       "  <th>Df Model:</th>              <td>     1</td>      <th>                     </th>     <td> </td>    \n",
       "</tr>\n",
       "<tr>\n",
       "  <th>Covariance Type:</th>      <td>nonrobust</td>    <th>                     </th>     <td> </td>    \n",
       "</tr>\n",
       "</table>\n",
       "<table class=\"simpletable\">\n",
       "<tr>\n",
       "      <td></td>         <th>coef</th>     <th>std err</th>      <th>t</th>      <th>P>|t|</th> <th>[95.0% Conf. Int.]</th> \n",
       "</tr>\n",
       "<tr>\n",
       "  <th>Intercept</th> <td>    0.8109</td> <td>    0.004</td> <td>  217.190</td> <td> 0.000</td> <td>    0.804     0.818</td>\n",
       "</tr>\n",
       "<tr>\n",
       "  <th>progresa</th>  <td>    0.0383</td> <td>    0.005</td> <td>    8.102</td> <td> 0.000</td> <td>    0.029     0.048</td>\n",
       "</tr>\n",
       "</table>\n",
       "<table class=\"simpletable\">\n",
       "<tr>\n",
       "  <th>Omnibus:</th>       <td>7487.800</td> <th>  Durbin-Watson:     </th> <td>   1.734</td> \n",
       "</tr>\n",
       "<tr>\n",
       "  <th>Prob(Omnibus):</th>  <td> 0.000</td>  <th>  Jarque-Bera (JB):  </th> <td>15756.374</td>\n",
       "</tr>\n",
       "<tr>\n",
       "  <th>Skew:</th>           <td>-1.796</td>  <th>  Prob(JB):          </th> <td>    0.00</td> \n",
       "</tr>\n",
       "<tr>\n",
       "  <th>Kurtosis:</th>       <td> 4.245</td>  <th>  Cond. No.          </th> <td>    3.02</td> \n",
       "</tr>\n",
       "</table>"
      ],
      "text/plain": [
       "<class 'statsmodels.iolib.summary.Summary'>\n",
       "\"\"\"\n",
       "                            OLS Regression Results                            \n",
       "==============================================================================\n",
       "Dep. Variable:                     sc   R-squared:                       0.003\n",
       "Model:                            OLS   Adj. R-squared:                  0.002\n",
       "Method:                 Least Squares   F-statistic:                     65.64\n",
       "Date:                Tue, 02 May 2017   Prob (F-statistic):           5.66e-16\n",
       "Time:                        14:00:06   Log-Likelihood:                -11171.\n",
       "No. Observations:               26155   AIC:                         2.235e+04\n",
       "Df Residuals:                   26153   BIC:                         2.236e+04\n",
       "Df Model:                           1                                         \n",
       "Covariance Type:            nonrobust                                         \n",
       "==============================================================================\n",
       "                 coef    std err          t      P>|t|      [95.0% Conf. Int.]\n",
       "------------------------------------------------------------------------------\n",
       "Intercept      0.8109      0.004    217.190      0.000         0.804     0.818\n",
       "progresa       0.0383      0.005      8.102      0.000         0.029     0.048\n",
       "==============================================================================\n",
       "Omnibus:                     7487.800   Durbin-Watson:                   1.734\n",
       "Prob(Omnibus):                  0.000   Jarque-Bera (JB):            15756.374\n",
       "Skew:                          -1.796   Prob(JB):                         0.00\n",
       "Kurtosis:                       4.245   Cond. No.                         3.02\n",
       "==============================================================================\n",
       "\n",
       "Warnings:\n",
       "[1] Standard Errors assume that the covariance matrix of the errors is correctly specified.\n",
       "\"\"\""
      ]
     },
     "execution_count": 231,
     "metadata": {},
     "output_type": "execute_result"
    }
   ],
   "source": [
    "regression_df = prog[(prog.poor==1)&(prog.year==98)]\n",
    "\n",
    "import statsmodels.formula.api as stat\n",
    "\n",
    "regressor = stat.ols(formula = 'sc ~ progresa', data = regression_df).fit()\n",
    "regressor.summary()"
   ]
  },
  {
   "cell_type": "markdown",
   "metadata": {},
   "source": [
    "Based on the above model, progresa increased the likelihood of a child enrolling by a value of 0.038 units. Or we can say there is a 3.8% higher chance of the child enrolling, due to the progresa program.\n",
    "\n",
    "\n",
    "The estimate of a increase by 0.038 units is similar to what we got in the t-test from part 2.1. Also, in both cases we achieved statistical significants i.e similar p-values which are less that 0.05. We can say that both these tests have led us to similar results.\n",
    "\n",
    "\n",
    "* Counterfactual:\n",
    "\n",
    "Enrollment would be the same for treatment and control groups for poor, in the absence of treatment. In this case, it should be around 0.80, i.e when progresa = 0."
   ]
  },
  {
   "cell_type": "markdown",
   "metadata": {
    "ein.tags": [
     "worksheet-0"
    ],
    "slideshow": {
     "slide_type": "-"
    }
   },
   "source": [
    "### 2.3 Multiple Regression"
   ]
  },
  {
   "cell_type": "code",
   "execution_count": 189,
   "metadata": {
    "autoscroll": "json-false",
    "ein.tags": [
     "worksheet-0"
    ],
    "slideshow": {
     "slide_type": "-"
    }
   },
   "outputs": [
    {
     "data": {
      "text/html": [
       "<table class=\"simpletable\">\n",
       "<caption>OLS Regression Results</caption>\n",
       "<tr>\n",
       "  <th>Dep. Variable:</th>           <td>sc</td>        <th>  R-squared:         </th> <td>   0.263</td> \n",
       "</tr>\n",
       "<tr>\n",
       "  <th>Model:</th>                   <td>OLS</td>       <th>  Adj. R-squared:    </th> <td>   0.263</td> \n",
       "</tr>\n",
       "<tr>\n",
       "  <th>Method:</th>             <td>Least Squares</td>  <th>  F-statistic:       </th> <td>   1168.</td> \n",
       "</tr>\n",
       "<tr>\n",
       "  <th>Date:</th>             <td>Tue, 02 May 2017</td> <th>  Prob (F-statistic):</th>  <td>  0.00</td>  \n",
       "</tr>\n",
       "<tr>\n",
       "  <th>Time:</th>                 <td>00:33:21</td>     <th>  Log-Likelihood:    </th> <td> -7207.9</td> \n",
       "</tr>\n",
       "<tr>\n",
       "  <th>No. Observations:</th>      <td> 26155</td>      <th>  AIC:               </th> <td>1.443e+04</td>\n",
       "</tr>\n",
       "<tr>\n",
       "  <th>Df Residuals:</th>          <td> 26146</td>      <th>  BIC:               </th> <td>1.451e+04</td>\n",
       "</tr>\n",
       "<tr>\n",
       "  <th>Df Model:</th>              <td>     8</td>      <th>                     </th>     <td> </td>    \n",
       "</tr>\n",
       "<tr>\n",
       "  <th>Covariance Type:</th>      <td>nonrobust</td>    <th>                     </th>     <td> </td>    \n",
       "</tr>\n",
       "</table>\n",
       "<table class=\"simpletable\">\n",
       "<tr>\n",
       "      <td></td>         <th>coef</th>     <th>std err</th>      <th>t</th>      <th>P>|t|</th> <th>[95.0% Conf. Int.]</th> \n",
       "</tr>\n",
       "<tr>\n",
       "  <th>Intercept</th> <td>    1.5252</td> <td>    0.012</td> <td>  130.988</td> <td> 0.000</td> <td>    1.502     1.548</td>\n",
       "</tr>\n",
       "<tr>\n",
       "  <th>progresa</th>  <td>    0.0348</td> <td>    0.004</td> <td>    8.554</td> <td> 0.000</td> <td>    0.027     0.043</td>\n",
       "</tr>\n",
       "<tr>\n",
       "  <th>age</th>       <td>   -0.0649</td> <td>    0.001</td> <td>  -92.501</td> <td> 0.000</td> <td>   -0.066    -0.064</td>\n",
       "</tr>\n",
       "<tr>\n",
       "  <th>dist_sec</th>  <td>   -0.0110</td> <td>    0.001</td> <td>  -11.806</td> <td> 0.000</td> <td>   -0.013    -0.009</td>\n",
       "</tr>\n",
       "<tr>\n",
       "  <th>sex</th>       <td>    0.0308</td> <td>    0.004</td> <td>    7.799</td> <td> 0.000</td> <td>    0.023     0.039</td>\n",
       "</tr>\n",
       "<tr>\n",
       "  <th>hohedu</th>    <td>    0.0082</td> <td>    0.001</td> <td>   10.250</td> <td> 0.000</td> <td>    0.007     0.010</td>\n",
       "</tr>\n",
       "<tr>\n",
       "  <th>indig</th>     <td>    0.0490</td> <td>    0.004</td> <td>   11.532</td> <td> 0.000</td> <td>    0.041     0.057</td>\n",
       "</tr>\n",
       "<tr>\n",
       "  <th>fam_n</th>     <td>   -0.0004</td> <td>    0.001</td> <td>   -0.514</td> <td> 0.607</td> <td>   -0.002     0.001</td>\n",
       "</tr>\n",
       "<tr>\n",
       "  <th>hohwag</th>    <td>-2.278e-06</td> <td> 2.82e-06</td> <td>   -0.806</td> <td> 0.420</td> <td>-7.81e-06  3.26e-06</td>\n",
       "</tr>\n",
       "</table>\n",
       "<table class=\"simpletable\">\n",
       "<tr>\n",
       "  <th>Omnibus:</th>       <td>3020.125</td> <th>  Durbin-Watson:     </th> <td>   1.718</td>\n",
       "</tr>\n",
       "<tr>\n",
       "  <th>Prob(Omnibus):</th>  <td> 0.000</td>  <th>  Jarque-Bera (JB):  </th> <td>4179.390</td>\n",
       "</tr>\n",
       "<tr>\n",
       "  <th>Skew:</th>           <td>-0.968</td>  <th>  Prob(JB):          </th> <td>    0.00</td>\n",
       "</tr>\n",
       "<tr>\n",
       "  <th>Kurtosis:</th>       <td> 3.293</td>  <th>  Cond. No.          </th> <td>5.40e+03</td>\n",
       "</tr>\n",
       "</table>"
      ],
      "text/plain": [
       "<class 'statsmodels.iolib.summary.Summary'>\n",
       "\"\"\"\n",
       "                            OLS Regression Results                            \n",
       "==============================================================================\n",
       "Dep. Variable:                     sc   R-squared:                       0.263\n",
       "Model:                            OLS   Adj. R-squared:                  0.263\n",
       "Method:                 Least Squares   F-statistic:                     1168.\n",
       "Date:                Tue, 02 May 2017   Prob (F-statistic):               0.00\n",
       "Time:                        00:33:21   Log-Likelihood:                -7207.9\n",
       "No. Observations:               26155   AIC:                         1.443e+04\n",
       "Df Residuals:                   26146   BIC:                         1.451e+04\n",
       "Df Model:                           8                                         \n",
       "Covariance Type:            nonrobust                                         \n",
       "==============================================================================\n",
       "                 coef    std err          t      P>|t|      [95.0% Conf. Int.]\n",
       "------------------------------------------------------------------------------\n",
       "Intercept      1.5252      0.012    130.988      0.000         1.502     1.548\n",
       "progresa       0.0348      0.004      8.554      0.000         0.027     0.043\n",
       "age           -0.0649      0.001    -92.501      0.000        -0.066    -0.064\n",
       "dist_sec      -0.0110      0.001    -11.806      0.000        -0.013    -0.009\n",
       "sex            0.0308      0.004      7.799      0.000         0.023     0.039\n",
       "hohedu         0.0082      0.001     10.250      0.000         0.007     0.010\n",
       "indig          0.0490      0.004     11.532      0.000         0.041     0.057\n",
       "fam_n         -0.0004      0.001     -0.514      0.607        -0.002     0.001\n",
       "hohwag     -2.278e-06   2.82e-06     -0.806      0.420     -7.81e-06  3.26e-06\n",
       "==============================================================================\n",
       "Omnibus:                     3020.125   Durbin-Watson:                   1.718\n",
       "Prob(Omnibus):                  0.000   Jarque-Bera (JB):             4179.390\n",
       "Skew:                          -0.968   Prob(JB):                         0.00\n",
       "Kurtosis:                       3.293   Cond. No.                     5.40e+03\n",
       "==============================================================================\n",
       "\n",
       "Warnings:\n",
       "[1] Standard Errors assume that the covariance matrix of the errors is correctly specified.\n",
       "[2] The condition number is large, 5.4e+03. This might indicate that there are\n",
       "strong multicollinearity or other numerical problems.\n",
       "\"\"\""
      ]
     },
     "execution_count": 189,
     "metadata": {},
     "output_type": "execute_result"
    }
   ],
   "source": [
    "regressor_new = stat.ols(formula = 'sc ~ progresa + age + dist_sec + sex + hohedu + indig + fam_n + hohwag', data = regression_df).fit()\n",
    "regressor_new.summary()"
   ]
  },
  {
   "cell_type": "markdown",
   "metadata": {},
   "source": [
    "On adding the controls to our regression model, our new point estimate is 0.0348 i.e a 3.48% higher chance of a child enrolling due to the treatment. This is lower than our previous point estimate of 3.8%. However, the values are still close.\n",
    "\n",
    "We get a lower standard error of 0.004 after adding the control variable, compared to our earlier standard error of 0.005. Adding the control variables has helped us make a tighter estimate.\n",
    "\n",
    "\n",
    "The minor difference in estimates after adding the control variables leads me to believe that beyond entry to a treatment or a control group, various factors such as age, distance to nearest secondary school also do play a part in the chance of a child enrolling."
   ]
  },
  {
   "cell_type": "markdown",
   "metadata": {
    "ein.tags": [
     "worksheet-0"
    ],
    "slideshow": {
     "slide_type": "-"
    }
   },
   "source": [
    "### 2.4 Difference-in-Difference, version 1 (tabular)\n"
   ]
  },
  {
   "cell_type": "code",
   "execution_count": 194,
   "metadata": {
    "autoscroll": "json-false",
    "ein.tags": [
     "worksheet-0"
    ],
    "slideshow": {
     "slide_type": "-"
    }
   },
   "outputs": [
    {
     "data": {
      "text/plain": [
       "0.030702973230652075"
      ]
     },
     "execution_count": 194,
     "metadata": {},
     "output_type": "execute_result"
    }
   ],
   "source": [
    "diff_1 = treatment_df_98.sc.mean() - treatment_df.sc.mean()\n",
    "diff_2 = control_df_98.sc.mean() - control_df.sc.mean()\n",
    "\n",
    "diff = diff_1 - diff_2\n",
    "\n",
    "diff"
   ]
  },
  {
   "cell_type": "markdown",
   "metadata": {},
   "source": [
    "Using the difference-in-difference approach, we see that progresa in associated with a 3.07% increase in enrolment rates after treatment. This is lower than our earlier estimate of impact i.e a 3.8% increases.\n",
    "This method takes into consideration the statistically significant differences in enrolment rates among treatment and control groups at baseline, that we saw in part 1.\n",
    "\n",
    "* Counterfactual:\n",
    "\n",
    "In the absence of treatment, the average rate of enrollment changes by the same amount for both the treatment and control groups."
   ]
  },
  {
   "cell_type": "markdown",
   "metadata": {
    "ein.tags": [
     "worksheet-0"
    ],
    "slideshow": {
     "slide_type": "-"
    }
   },
   "source": [
    "### 2.5 Difference-in-Difference, version 1 (regression)"
   ]
  },
  {
   "cell_type": "code",
   "execution_count": 191,
   "metadata": {
    "autoscroll": "json-false",
    "ein.tags": [
     "worksheet-0"
    ],
    "slideshow": {
     "slide_type": "-"
    }
   },
   "outputs": [],
   "source": [
    "z = []\n",
    "for c in prog.year:\n",
    "    if c == 97:\n",
    "        z.append(0)\n",
    "    elif c == 98:\n",
    "        z.append(1)\n",
    "\n",
    "prog.year = z"
   ]
  },
  {
   "cell_type": "code",
   "execution_count": 192,
   "metadata": {},
   "outputs": [
    {
     "data": {
      "text/html": [
       "<table class=\"simpletable\">\n",
       "<caption>OLS Regression Results</caption>\n",
       "<tr>\n",
       "  <th>Dep. Variable:</th>           <td>sc</td>        <th>  R-squared:         </th> <td>   0.275</td> \n",
       "</tr>\n",
       "<tr>\n",
       "  <th>Model:</th>                   <td>OLS</td>       <th>  Adj. R-squared:    </th> <td>   0.275</td> \n",
       "</tr>\n",
       "<tr>\n",
       "  <th>Method:</th>             <td>Least Squares</td>  <th>  F-statistic:       </th> <td>   2397.</td> \n",
       "</tr>\n",
       "<tr>\n",
       "  <th>Date:</th>             <td>Tue, 02 May 2017</td> <th>  Prob (F-statistic):</th>  <td>  0.00</td>  \n",
       "</tr>\n",
       "<tr>\n",
       "  <th>Time:</th>                 <td>00:33:33</td>     <th>  Log-Likelihood:    </th> <td> -16310.</td> \n",
       "</tr>\n",
       "<tr>\n",
       "  <th>No. Observations:</th>      <td> 56893</td>      <th>  AIC:               </th> <td>3.264e+04</td>\n",
       "</tr>\n",
       "<tr>\n",
       "  <th>Df Residuals:</th>          <td> 56883</td>      <th>  BIC:               </th> <td>3.273e+04</td>\n",
       "</tr>\n",
       "<tr>\n",
       "  <th>Df Model:</th>              <td>     9</td>      <th>                     </th>     <td> </td>    \n",
       "</tr>\n",
       "<tr>\n",
       "  <th>Covariance Type:</th>      <td>nonrobust</td>    <th>                     </th>     <td> </td>    \n",
       "</tr>\n",
       "</table>\n",
       "<table class=\"simpletable\">\n",
       "<tr>\n",
       "        <td></td>           <th>coef</th>     <th>std err</th>      <th>t</th>      <th>P>|t|</th> <th>[95.0% Conf. Int.]</th> \n",
       "</tr>\n",
       "<tr>\n",
       "  <th>Intercept</th>     <td>    1.5203</td> <td>    0.009</td> <td>  177.129</td> <td> 0.000</td> <td>    1.503     1.537</td>\n",
       "</tr>\n",
       "<tr>\n",
       "  <th>progresa</th>      <td>    0.0048</td> <td>    0.004</td> <td>    1.266</td> <td> 0.205</td> <td>   -0.003     0.012</td>\n",
       "</tr>\n",
       "<tr>\n",
       "  <th>year</th>          <td>    0.0330</td> <td>    0.004</td> <td>    7.471</td> <td> 0.000</td> <td>    0.024     0.042</td>\n",
       "</tr>\n",
       "<tr>\n",
       "  <th>progresa:year</th> <td>    0.0304</td> <td>    0.006</td> <td>    5.446</td> <td> 0.000</td> <td>    0.019     0.041</td>\n",
       "</tr>\n",
       "<tr>\n",
       "  <th>age</th>           <td>   -0.0658</td> <td>    0.000</td> <td> -143.935</td> <td> 0.000</td> <td>   -0.067    -0.065</td>\n",
       "</tr>\n",
       "<tr>\n",
       "  <th>dist_sec</th>      <td>   -0.0112</td> <td>    0.001</td> <td>  -17.635</td> <td> 0.000</td> <td>   -0.012    -0.010</td>\n",
       "</tr>\n",
       "<tr>\n",
       "  <th>sex</th>           <td>    0.0333</td> <td>    0.003</td> <td>   12.323</td> <td> 0.000</td> <td>    0.028     0.039</td>\n",
       "</tr>\n",
       "<tr>\n",
       "  <th>indig</th>         <td>    0.0515</td> <td>    0.003</td> <td>   17.761</td> <td> 0.000</td> <td>    0.046     0.057</td>\n",
       "</tr>\n",
       "<tr>\n",
       "  <th>fam_n</th>         <td>   -0.0016</td> <td>    0.001</td> <td>   -2.765</td> <td> 0.006</td> <td>   -0.003    -0.000</td>\n",
       "</tr>\n",
       "<tr>\n",
       "  <th>hohsex</th>        <td>    0.0104</td> <td>    0.005</td> <td>    1.973</td> <td> 0.049</td> <td> 6.78e-05     0.021</td>\n",
       "</tr>\n",
       "</table>\n",
       "<table class=\"simpletable\">\n",
       "<tr>\n",
       "  <th>Omnibus:</th>       <td>5613.804</td> <th>  Durbin-Watson:     </th> <td>   1.477</td>\n",
       "</tr>\n",
       "<tr>\n",
       "  <th>Prob(Omnibus):</th>  <td> 0.000</td>  <th>  Jarque-Bera (JB):  </th> <td>7456.053</td>\n",
       "</tr>\n",
       "<tr>\n",
       "  <th>Skew:</th>           <td>-0.884</td>  <th>  Prob(JB):          </th> <td>    0.00</td>\n",
       "</tr>\n",
       "<tr>\n",
       "  <th>Kurtosis:</th>       <td> 3.151</td>  <th>  Cond. No.          </th> <td>    96.2</td>\n",
       "</tr>\n",
       "</table>"
      ],
      "text/plain": [
       "<class 'statsmodels.iolib.summary.Summary'>\n",
       "\"\"\"\n",
       "                            OLS Regression Results                            \n",
       "==============================================================================\n",
       "Dep. Variable:                     sc   R-squared:                       0.275\n",
       "Model:                            OLS   Adj. R-squared:                  0.275\n",
       "Method:                 Least Squares   F-statistic:                     2397.\n",
       "Date:                Tue, 02 May 2017   Prob (F-statistic):               0.00\n",
       "Time:                        00:33:33   Log-Likelihood:                -16310.\n",
       "No. Observations:               56893   AIC:                         3.264e+04\n",
       "Df Residuals:                   56883   BIC:                         3.273e+04\n",
       "Df Model:                           9                                         \n",
       "Covariance Type:            nonrobust                                         \n",
       "=================================================================================\n",
       "                    coef    std err          t      P>|t|      [95.0% Conf. Int.]\n",
       "---------------------------------------------------------------------------------\n",
       "Intercept         1.5203      0.009    177.129      0.000         1.503     1.537\n",
       "progresa          0.0048      0.004      1.266      0.205        -0.003     0.012\n",
       "year              0.0330      0.004      7.471      0.000         0.024     0.042\n",
       "progresa:year     0.0304      0.006      5.446      0.000         0.019     0.041\n",
       "age              -0.0658      0.000   -143.935      0.000        -0.067    -0.065\n",
       "dist_sec         -0.0112      0.001    -17.635      0.000        -0.012    -0.010\n",
       "sex               0.0333      0.003     12.323      0.000         0.028     0.039\n",
       "indig             0.0515      0.003     17.761      0.000         0.046     0.057\n",
       "fam_n            -0.0016      0.001     -2.765      0.006        -0.003    -0.000\n",
       "hohsex            0.0104      0.005      1.973      0.049      6.78e-05     0.021\n",
       "==============================================================================\n",
       "Omnibus:                     5613.804   Durbin-Watson:                   1.477\n",
       "Prob(Omnibus):                  0.000   Jarque-Bera (JB):             7456.053\n",
       "Skew:                          -0.884   Prob(JB):                         0.00\n",
       "Kurtosis:                       3.151   Cond. No.                         96.2\n",
       "==============================================================================\n",
       "\n",
       "Warnings:\n",
       "[1] Standard Errors assume that the covariance matrix of the errors is correctly specified.\n",
       "\"\"\""
      ]
     },
     "execution_count": 192,
     "metadata": {},
     "output_type": "execute_result"
    }
   ],
   "source": [
    "regressor_diff = stat.ols(formula = 'sc ~ progresa*year + progresa + year + age + dist_sec + sex + indig + fam_n + hohsex', data = prog[prog.poor == 1]).fit()\n",
    "regressor_diff.summary()"
   ]
  },
  {
   "cell_type": "markdown",
   "metadata": {},
   "source": [
    "From the above summary table, we see the coefficient of the \"progresa:year\" variable is 0.0313, with a standard error of 0.006. This is essentially the effect of progresa on the enrolment, taking into consideration the significant differences in values between the treatment and control groups at baseline.\n",
    "Thus, we say that taking into account the differences in enrolment between treatment and control groups before treatment, child enrolment increases by 0.0304 or 3.04% after treatment for the treatment group. \n",
    "\n",
    "These treatment effect are lower than our estimates from the simple difference method. Also, we get a slightly higher standard error of 0.06, compared to the case of simple difference.\n",
    "While this in a way leads us to believe that the treatment had lesser effect that we anticipated earlier with higher uncertainity, I feel this approach is more rounded and our understanding of the effects are more accurate.\n",
    "\n",
    "Compared to the earlier estimate from (2.4) where we got an estimate of 0.307 or 3.07% increase in enrolment, we get a lower value in the case of multiple linear regression i.e 0.0304 or a 3.04% increase in child enrolment due to progresa. This reduction in estimate can be because of the control variables that we have used in the model. Beyond the presence of treatment (Which was the deciding factor in the difference-in-difference approach), the control variables also play a part in deciding child enrolment rates.\n",
    "Hence, we have have improved our estimates further using the multiple regression method.\n",
    "\n",
    "* Counterfactual:\n",
    "\n",
    "Enrollment would be the same for treatment and control groups, in the absence of treatment , given that the control variables such as age, sex, distance from nearest secondary school etc. remained the same."
   ]
  },
  {
   "cell_type": "markdown",
   "metadata": {
    "ein.tags": [
     "worksheet-0"
    ],
    "slideshow": {
     "slide_type": "-"
    }
   },
   "source": [
    "### 2.6 Difference-in-Difference, version 2\n",
    " \n",
    "An alternative approach would be to compare enrollment rates in 1998 between poor and non-poor across treatment and control villages. "
   ]
  },
  {
   "cell_type": "code",
   "execution_count": 195,
   "metadata": {
    "autoscroll": "json-false",
    "ein.tags": [
     "worksheet-0"
    ],
    "slideshow": {
     "slide_type": "-"
    }
   },
   "outputs": [
    {
     "data": {
      "text/html": [
       "<table class=\"simpletable\">\n",
       "<caption>OLS Regression Results</caption>\n",
       "<tr>\n",
       "  <th>Dep. Variable:</th>           <td>sc</td>        <th>  R-squared:         </th> <td>   0.261</td> \n",
       "</tr>\n",
       "<tr>\n",
       "  <th>Model:</th>                   <td>OLS</td>       <th>  Adj. R-squared:    </th> <td>   0.261</td> \n",
       "</tr>\n",
       "<tr>\n",
       "  <th>Method:</th>             <td>Least Squares</td>  <th>  F-statistic:       </th> <td>   1202.</td> \n",
       "</tr>\n",
       "<tr>\n",
       "  <th>Date:</th>             <td>Tue, 02 May 2017</td> <th>  Prob (F-statistic):</th>  <td>  0.00</td>  \n",
       "</tr>\n",
       "<tr>\n",
       "  <th>Time:</th>                 <td>01:22:46</td>     <th>  Log-Likelihood:    </th> <td> -8885.6</td> \n",
       "</tr>\n",
       "<tr>\n",
       "  <th>No. Observations:</th>      <td> 30665</td>      <th>  AIC:               </th> <td>1.779e+04</td>\n",
       "</tr>\n",
       "<tr>\n",
       "  <th>Df Residuals:</th>          <td> 30655</td>      <th>  BIC:               </th> <td>1.787e+04</td>\n",
       "</tr>\n",
       "<tr>\n",
       "  <th>Df Model:</th>              <td>     9</td>      <th>                     </th>     <td> </td>    \n",
       "</tr>\n",
       "<tr>\n",
       "  <th>Covariance Type:</th>      <td>nonrobust</td>    <th>                     </th>     <td> </td>    \n",
       "</tr>\n",
       "</table>\n",
       "<table class=\"simpletable\">\n",
       "<tr>\n",
       "        <td></td>           <th>coef</th>     <th>std err</th>      <th>t</th>      <th>P>|t|</th> <th>[95.0% Conf. Int.]</th> \n",
       "</tr>\n",
       "<tr>\n",
       "  <th>Intercept</th>     <td>    1.5860</td> <td>    0.014</td> <td>  113.949</td> <td> 0.000</td> <td>    1.559     1.613</td>\n",
       "</tr>\n",
       "<tr>\n",
       "  <th>progresa</th>      <td>    0.0271</td> <td>    0.010</td> <td>    2.756</td> <td> 0.006</td> <td>    0.008     0.046</td>\n",
       "</tr>\n",
       "<tr>\n",
       "  <th>poor</th>          <td>   -0.0216</td> <td>    0.008</td> <td>   -2.578</td> <td> 0.010</td> <td>   -0.038    -0.005</td>\n",
       "</tr>\n",
       "<tr>\n",
       "  <th>progresa:poor</th> <td>    0.0081</td> <td>    0.011</td> <td>    0.758</td> <td> 0.448</td> <td>   -0.013     0.029</td>\n",
       "</tr>\n",
       "<tr>\n",
       "  <th>age</th>           <td>   -0.0661</td> <td>    0.001</td> <td> -101.108</td> <td> 0.000</td> <td>   -0.067    -0.065</td>\n",
       "</tr>\n",
       "<tr>\n",
       "  <th>dist_sec</th>      <td>   -0.0123</td> <td>    0.001</td> <td>  -14.004</td> <td> 0.000</td> <td>   -0.014    -0.011</td>\n",
       "</tr>\n",
       "<tr>\n",
       "  <th>sex</th>           <td>    0.0304</td> <td>    0.004</td> <td>    8.228</td> <td> 0.000</td> <td>    0.023     0.038</td>\n",
       "</tr>\n",
       "<tr>\n",
       "  <th>indig</th>         <td>    0.0514</td> <td>    0.004</td> <td>   12.503</td> <td> 0.000</td> <td>    0.043     0.059</td>\n",
       "</tr>\n",
       "<tr>\n",
       "  <th>fam_n</th>         <td>   -0.0031</td> <td>    0.001</td> <td>   -3.779</td> <td> 0.000</td> <td>   -0.005    -0.001</td>\n",
       "</tr>\n",
       "<tr>\n",
       "  <th>hohsex</th>        <td>    0.0179</td> <td>    0.007</td> <td>    2.440</td> <td> 0.015</td> <td>    0.004     0.032</td>\n",
       "</tr>\n",
       "</table>\n",
       "<table class=\"simpletable\">\n",
       "<tr>\n",
       "  <th>Omnibus:</th>       <td>3325.606</td> <th>  Durbin-Watson:     </th> <td>   1.715</td>\n",
       "</tr>\n",
       "<tr>\n",
       "  <th>Prob(Omnibus):</th>  <td> 0.000</td>  <th>  Jarque-Bera (JB):  </th> <td>4531.778</td>\n",
       "</tr>\n",
       "<tr>\n",
       "  <th>Skew:</th>           <td>-0.937</td>  <th>  Prob(JB):          </th> <td>    0.00</td>\n",
       "</tr>\n",
       "<tr>\n",
       "  <th>Kurtosis:</th>       <td> 3.189</td>  <th>  Cond. No.          </th> <td>    138.</td>\n",
       "</tr>\n",
       "</table>"
      ],
      "text/plain": [
       "<class 'statsmodels.iolib.summary.Summary'>\n",
       "\"\"\"\n",
       "                            OLS Regression Results                            \n",
       "==============================================================================\n",
       "Dep. Variable:                     sc   R-squared:                       0.261\n",
       "Model:                            OLS   Adj. R-squared:                  0.261\n",
       "Method:                 Least Squares   F-statistic:                     1202.\n",
       "Date:                Tue, 02 May 2017   Prob (F-statistic):               0.00\n",
       "Time:                        01:22:46   Log-Likelihood:                -8885.6\n",
       "No. Observations:               30665   AIC:                         1.779e+04\n",
       "Df Residuals:                   30655   BIC:                         1.787e+04\n",
       "Df Model:                           9                                         \n",
       "Covariance Type:            nonrobust                                         \n",
       "=================================================================================\n",
       "                    coef    std err          t      P>|t|      [95.0% Conf. Int.]\n",
       "---------------------------------------------------------------------------------\n",
       "Intercept         1.5860      0.014    113.949      0.000         1.559     1.613\n",
       "progresa          0.0271      0.010      2.756      0.006         0.008     0.046\n",
       "poor             -0.0216      0.008     -2.578      0.010        -0.038    -0.005\n",
       "progresa:poor     0.0081      0.011      0.758      0.448        -0.013     0.029\n",
       "age              -0.0661      0.001   -101.108      0.000        -0.067    -0.065\n",
       "dist_sec         -0.0123      0.001    -14.004      0.000        -0.014    -0.011\n",
       "sex               0.0304      0.004      8.228      0.000         0.023     0.038\n",
       "indig             0.0514      0.004     12.503      0.000         0.043     0.059\n",
       "fam_n            -0.0031      0.001     -3.779      0.000        -0.005    -0.001\n",
       "hohsex            0.0179      0.007      2.440      0.015         0.004     0.032\n",
       "==============================================================================\n",
       "Omnibus:                     3325.606   Durbin-Watson:                   1.715\n",
       "Prob(Omnibus):                  0.000   Jarque-Bera (JB):             4531.778\n",
       "Skew:                          -0.937   Prob(JB):                         0.00\n",
       "Kurtosis:                       3.189   Cond. No.                         138.\n",
       "==============================================================================\n",
       "\n",
       "Warnings:\n",
       "[1] Standard Errors assume that the covariance matrix of the errors is correctly specified.\n",
       "\"\"\""
      ]
     },
     "execution_count": 195,
     "metadata": {},
     "output_type": "execute_result"
    }
   ],
   "source": [
    "regressor_diff1 = stat.ols(formula = 'sc ~ progresa*poor + progresa + poor + age + dist_sec + sex + indig + fam_n + hohsex', data = prog[prog.year == 1]).fit()\n",
    "regressor_diff1.summary()"
   ]
  },
  {
   "cell_type": "markdown",
   "metadata": {},
   "source": [
    "This version of estimate would take into account the enrolment rates between poor and non-poor groups, across the treatment and control groups. From the above summary of our regression, the coefficient of the parameter \"progresa:poor\" will give us our required estimate.\n",
    "By this method, we see that progresa had a very minor impact on the enrolment rate (0.008) or 0.8%.\n",
    "\n",
    "* Counterfactual:\n",
    "\n",
    "Difference between average enrolment rates of treatment and control groups should be same for poor and non-poor families in the absence of treatment.\n",
    "\n",
    "The treatment effects of 0.8% increase is much lower than our previous estimate of 0.034 or 3.4%.\n",
    "\n",
    "\n",
    "In the previous case, we measures how progresa impacted enrolment rates for poor families over time i.e before treatment and after treatment. Since, the program was targetted for the poor, this approach seems a more realistic way to understand if the program succeeded overall.\n",
    "\n",
    "In this case, we are only considering the post-treatment period, across the poor and non-poor groups. While the program may have succeeded in its target of increasing enrolment in poor villages, this approach wouldn't allow us to observe that, as we don't take into consideration any sort of baseline for the poor. This may have led to inaccurate estimates."
   ]
  },
  {
   "cell_type": "markdown",
   "metadata": {
    "ein.tags": [
     "worksheet-0"
    ],
    "slideshow": {
     "slide_type": "-"
    }
   },
   "source": [
    "### 2.7 Spillover effects (extra credit)\n",
    "\n",
    "Now, we usa a double-difference regression to estimate the impact of PROGRESA on non-poor households. In other words, compare the difference in enrollments between 1997 and 1998 for non-poor households in treatment villages with the difference in enrollments between 1997 and 1998 for non-poor households in control villages."
   ]
  },
  {
   "cell_type": "code",
   "execution_count": 67,
   "metadata": {
    "autoscroll": "json-false",
    "ein.tags": [
     "worksheet-0"
    ],
    "slideshow": {
     "slide_type": "-"
    }
   },
   "outputs": [
    {
     "data": {
      "text/html": [
       "<table class=\"simpletable\">\n",
       "<caption>OLS Regression Results</caption>\n",
       "<tr>\n",
       "  <th>Dep. Variable:</th>           <td>sc</td>        <th>  R-squared:         </th> <td>   0.280</td>\n",
       "</tr>\n",
       "<tr>\n",
       "  <th>Model:</th>                   <td>OLS</td>       <th>  Adj. R-squared:    </th> <td>   0.279</td>\n",
       "</tr>\n",
       "<tr>\n",
       "  <th>Method:</th>             <td>Least Squares</td>  <th>  F-statistic:       </th> <td>   447.7</td>\n",
       "</tr>\n",
       "<tr>\n",
       "  <th>Date:</th>             <td>Mon, 01 May 2017</td> <th>  Prob (F-statistic):</th>  <td>  0.00</td> \n",
       "</tr>\n",
       "<tr>\n",
       "  <th>Time:</th>                 <td>20:43:14</td>     <th>  Log-Likelihood:    </th> <td> -3727.8</td>\n",
       "</tr>\n",
       "<tr>\n",
       "  <th>No. Observations:</th>      <td> 10378</td>      <th>  AIC:               </th> <td>   7476.</td>\n",
       "</tr>\n",
       "<tr>\n",
       "  <th>Df Residuals:</th>          <td> 10368</td>      <th>  BIC:               </th> <td>   7548.</td>\n",
       "</tr>\n",
       "<tr>\n",
       "  <th>Df Model:</th>              <td>     9</td>      <th>                     </th>     <td> </td>   \n",
       "</tr>\n",
       "<tr>\n",
       "  <th>Covariance Type:</th>      <td>nonrobust</td>    <th>                     </th>     <td> </td>   \n",
       "</tr>\n",
       "</table>\n",
       "<table class=\"simpletable\">\n",
       "<tr>\n",
       "        <td></td>           <th>coef</th>     <th>std err</th>      <th>t</th>      <th>P>|t|</th> <th>[95.0% Conf. Int.]</th> \n",
       "</tr>\n",
       "<tr>\n",
       "  <th>Intercept</th>     <td>    1.6289</td> <td>    0.022</td> <td>   73.000</td> <td> 0.000</td> <td>    1.585     1.673</td>\n",
       "</tr>\n",
       "<tr>\n",
       "  <th>progresa</th>      <td>    0.0269</td> <td>    0.009</td> <td>    2.875</td> <td> 0.004</td> <td>    0.009     0.045</td>\n",
       "</tr>\n",
       "<tr>\n",
       "  <th>year</th>          <td>    0.0396</td> <td>    0.011</td> <td>    3.649</td> <td> 0.000</td> <td>    0.018     0.061</td>\n",
       "</tr>\n",
       "<tr>\n",
       "  <th>progresa:year</th> <td>   -0.0017</td> <td>    0.014</td> <td>   -0.119</td> <td> 0.905</td> <td>   -0.029     0.026</td>\n",
       "</tr>\n",
       "<tr>\n",
       "  <th>age</th>           <td>   -0.0697</td> <td>    0.001</td> <td>  -61.641</td> <td> 0.000</td> <td>   -0.072    -0.067</td>\n",
       "</tr>\n",
       "<tr>\n",
       "  <th>dist_sec</th>      <td>   -0.0172</td> <td>    0.002</td> <td>   -9.709</td> <td> 0.000</td> <td>   -0.021    -0.014</td>\n",
       "</tr>\n",
       "<tr>\n",
       "  <th>sex</th>           <td>    0.0306</td> <td>    0.007</td> <td>    4.488</td> <td> 0.000</td> <td>    0.017     0.044</td>\n",
       "</tr>\n",
       "<tr>\n",
       "  <th>indig</th>         <td>    0.0488</td> <td>    0.010</td> <td>    4.816</td> <td> 0.000</td> <td>    0.029     0.069</td>\n",
       "</tr>\n",
       "<tr>\n",
       "  <th>fam_n</th>         <td>   -0.0081</td> <td>    0.001</td> <td>   -5.606</td> <td> 0.000</td> <td>   -0.011    -0.005</td>\n",
       "</tr>\n",
       "<tr>\n",
       "  <th>hohsex</th>        <td>    0.0197</td> <td>    0.014</td> <td>    1.424</td> <td> 0.154</td> <td>   -0.007     0.047</td>\n",
       "</tr>\n",
       "</table>\n",
       "<table class=\"simpletable\">\n",
       "<tr>\n",
       "  <th>Omnibus:</th>       <td>844.887</td> <th>  Durbin-Watson:     </th> <td>   1.482</td> \n",
       "</tr>\n",
       "<tr>\n",
       "  <th>Prob(Omnibus):</th> <td> 0.000</td>  <th>  Jarque-Bera (JB):  </th> <td> 832.796</td> \n",
       "</tr>\n",
       "<tr>\n",
       "  <th>Skew:</th>          <td>-0.639</td>  <th>  Prob(JB):          </th> <td>1.45e-181</td>\n",
       "</tr>\n",
       "<tr>\n",
       "  <th>Kurtosis:</th>      <td> 2.458</td>  <th>  Cond. No.          </th> <td>    102.</td> \n",
       "</tr>\n",
       "</table>"
      ],
      "text/plain": [
       "<class 'statsmodels.iolib.summary.Summary'>\n",
       "\"\"\"\n",
       "                            OLS Regression Results                            \n",
       "==============================================================================\n",
       "Dep. Variable:                     sc   R-squared:                       0.280\n",
       "Model:                            OLS   Adj. R-squared:                  0.279\n",
       "Method:                 Least Squares   F-statistic:                     447.7\n",
       "Date:                Mon, 01 May 2017   Prob (F-statistic):               0.00\n",
       "Time:                        20:43:14   Log-Likelihood:                -3727.8\n",
       "No. Observations:               10378   AIC:                             7476.\n",
       "Df Residuals:                   10368   BIC:                             7548.\n",
       "Df Model:                           9                                         \n",
       "Covariance Type:            nonrobust                                         \n",
       "=================================================================================\n",
       "                    coef    std err          t      P>|t|      [95.0% Conf. Int.]\n",
       "---------------------------------------------------------------------------------\n",
       "Intercept         1.6289      0.022     73.000      0.000         1.585     1.673\n",
       "progresa          0.0269      0.009      2.875      0.004         0.009     0.045\n",
       "year              0.0396      0.011      3.649      0.000         0.018     0.061\n",
       "progresa:year    -0.0017      0.014     -0.119      0.905        -0.029     0.026\n",
       "age              -0.0697      0.001    -61.641      0.000        -0.072    -0.067\n",
       "dist_sec         -0.0172      0.002     -9.709      0.000        -0.021    -0.014\n",
       "sex               0.0306      0.007      4.488      0.000         0.017     0.044\n",
       "indig             0.0488      0.010      4.816      0.000         0.029     0.069\n",
       "fam_n            -0.0081      0.001     -5.606      0.000        -0.011    -0.005\n",
       "hohsex            0.0197      0.014      1.424      0.154        -0.007     0.047\n",
       "==============================================================================\n",
       "Omnibus:                      844.887   Durbin-Watson:                   1.482\n",
       "Prob(Omnibus):                  0.000   Jarque-Bera (JB):              832.796\n",
       "Skew:                          -0.639   Prob(JB):                    1.45e-181\n",
       "Kurtosis:                       2.458   Cond. No.                         102.\n",
       "==============================================================================\n",
       "\n",
       "Warnings:\n",
       "[1] Standard Errors assume that the covariance matrix of the errors is correctly specified.\n",
       "\"\"\""
      ]
     },
     "execution_count": 67,
     "metadata": {},
     "output_type": "execute_result"
    }
   ],
   "source": [
    "regressor_diff2 = stat.ols(formula = 'sc ~ progresa*year + progresa + year + age + dist_sec + sex + indig + fam_n + hohsex', data = prog[prog.poor == 0]).fit()\n",
    "regressor_diff2.summary()"
   ]
  },
  {
   "cell_type": "markdown",
   "metadata": {},
   "source": [
    "PROGRESA may have created awareness among the public about importance of educating children. This may have affected non-poor households in the following ways:\n",
    "\n",
    "    1. Non-poor households near the threshold income level may have chosen to send their children to schools, as a result of awareness drives in the year 1997. This may have led to their family income falling below the threshold by 1998, making them eligible for the program.\n",
    "    2. Overall, seeing other families (poor) send their kids to school, may have motivated the non-poor families to follow suit. Since, they would already have been able to afford sending their kids to school, this may have acted as an motivation for them to do the same.\n",
    "\n",
    "From the \"progresa:year\" coefficient, we see the enrolment has decreased negligibly (0.0017). Also, the p-value of 0.9 is much higher than 0.05.\n",
    "Hence, this change is not significant.\n",
    "Overall, we can say that PROGRESA did not have any significant impact on the non-poor.\n",
    "\n",
    "Public awareness about progresa may have acted as an motivation for non-poor households, who weren't the target nor were eligible for the program, to enroll their children in schools."
   ]
  },
  {
   "cell_type": "markdown",
   "metadata": {
    "ein.tags": [
     "worksheet-0"
    ],
    "slideshow": {
     "slide_type": "-"
    }
   },
   "source": [
    "### 2.8 Summary"
   ]
  },
  {
   "cell_type": "markdown",
   "metadata": {
    "autoscroll": "json-false",
    "ein.tags": [
     "worksheet-0"
    ],
    "slideshow": {
     "slide_type": "-"
    }
   },
   "source": [
    "We have used different types of methods to estimate the impact of PROGRESA on enrollment rates for poor households in Mexico. The simple difference may be a naive way to estimate the impact , since there were significant underlying differences between treatment and control groups before the start of treatment. However, the difference-in-difference methods do take it into consideration.\n",
    "\n",
    "* Irrespective of the method, in all the cases, the effects that we got were statistically significant ( p-value < 0.05) , and we got an average increase in enrollment of 3-3.9% due to progresa across all the methods, with a standard error between 0.4 - 0.6 %.\n",
    "\n",
    "* Since the treatment and control groups were randomly assigned from the poor families according to the baseline survey in 1997, we can assume that there is no bias in the underlying data. Since, the welfare index for eligibility was kept a secret, this also helps in preventing any bias, since the non-poor families would not have any way to enrol into the program using unfair means.\n",
    "\n",
    "* The absense of any spill-over effect from 2.7 means there was no impact of treatment when seen from the perspective of poor and non-poor households, after treatment. Since, the program targeted the poor families, our previous analysis over time (1997-1998) and the significant results we got from the same helps us understand that the effect of increased enrollment in poor, follows the cause i.e PROGRESA.\n",
    "\n",
    "* It also makes logical sense that providing funds, should encourage families to send their children to school, since the government helps them to certain extent with their financial burder and getting educated will help such families earn a better living in the future.\n",
    "\n",
    "Hence, overall I feel Progresa did have a causal impact on the enrollment rates of poor households in Mexico."
   ]
  }
 ],
 "metadata": {
  "anaconda-cloud": {},
  "kernelspec": {
   "display_name": "Python 3",
   "language": "python",
   "name": "python3"
  },
  "language_info": {
   "codemirror_mode": {
    "name": "ipython",
    "version": 3
   },
   "file_extension": ".py",
   "mimetype": "text/x-python",
   "name": "python",
   "nbconvert_exporter": "python",
   "pygments_lexer": "ipython3",
   "version": "3.6.1"
  },
  "name": "ps2.ipynb"
 },
 "nbformat": 4,
 "nbformat_minor": 2
}
